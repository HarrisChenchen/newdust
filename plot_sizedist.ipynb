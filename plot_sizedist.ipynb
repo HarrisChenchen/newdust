{
 "cells": [
  {
   "cell_type": "code",
   "execution_count": 1,
   "metadata": {
    "collapsed": false
   },
   "outputs": [
    {
     "name": "stderr",
     "output_type": "stream",
     "text": [
      "//anaconda/lib/python2.7/site-packages/matplotlib/font_manager.py:273: UserWarning: Matplotlib is building the font cache using fc-list. This may take a moment.\n",
      "  warnings.warn('Matplotlib is building the font cache using fc-list. This may take a moment.')\n"
     ]
    }
   ],
   "source": [
    "import numpy as np\n",
    "import matplotlib.pyplot as plt\n",
    "\n",
    "%matplotlib inline"
   ]
  },
  {
   "cell_type": "code",
   "execution_count": 2,
   "metadata": {
    "collapsed": false
   },
   "outputs": [],
   "source": [
    "from newdust import graindist"
   ]
  },
  {
   "cell_type": "code",
   "execution_count": 3,
   "metadata": {
    "collapsed": true
   },
   "outputs": [],
   "source": [
    "MDTEST = 1.e-4 # g cm^-2\n",
    "RHO1   = 3.0   # g cm^-3\n",
    "RHO2   = 4.0"
   ]
  },
  {
   "cell_type": "code",
   "execution_count": 9,
   "metadata": {
    "collapsed": false
   },
   "outputs": [
    {
     "name": "stdout",
     "output_type": "stream",
     "text": [
      "For a = 0.30, rho = 3.0, nd = 2.95e+08 cm^-2\n",
      "For a = 0.30, rho = 4.0, nd = 2.21e+08 cm^-2\n"
     ]
    }
   ],
   "source": [
    "gtest = graindist.Grain(0.3)\n",
    "\n",
    "print(\"For a = %.2f, rho = %.1f, nd = %.2e cm^-2\" % (gtest.a, RHO1, gtest.ndens(MDTEST,RHO1)))\n",
    "print(\"For a = %.2f, rho = %.1f, nd = %.2e cm^-2\" % (gtest.a, RHO2, gtest.ndens(MDTEST,RHO2)))"
   ]
  },
  {
   "cell_type": "code",
   "execution_count": 5,
   "metadata": {
    "collapsed": false
   },
   "outputs": [
    {
     "data": {
      "text/plain": [
       "<matplotlib.legend.Legend at 0x10da6ce50>"
      ]
     },
     "execution_count": 5,
     "metadata": {},
     "output_type": "execute_result"
    },
    {
     "data": {
      "image/png": "[encoded data removed]",
      "text/plain": [
       "<matplotlib.figure.Figure at 0x10d843150>"
      ]
     },
     "metadata": {},
     "output_type": "display_data"
    }
   ],
   "source": [
    "ptest = graindist.Powerlaw()\n",
    "\n",
    "ax = plt.subplot(111)\n",
    "ptest.plot(ax, MDTEST, RHO1, label=r\"$\\rho$ = %.1f\"%(RHO1))\n",
    "ptest.plot(ax, MDTEST, RHO2, label=r\"$\\rho$ = %.1f\"%(RHO2))\n",
    "plt.legend(loc='upper left')"
   ]
  },
  {
   "cell_type": "code",
   "execution_count": 7,
   "metadata": {
    "collapsed": false
   },
   "outputs": [
    {
     "data": {
      "text/plain": [
       "<matplotlib.legend.Legend at 0x10dd09a90>"
      ]
     },
     "execution_count": 7,
     "metadata": {},
     "output_type": "execute_result"
    },
    {
     "data": {
      "image/png": "[encoded data removed]",
      "text/plain": [
       "<matplotlib.figure.Figure at 0x10dc96cd0>"
      ]
     },
     "metadata": {},
     "output_type": "display_data"
    }
   ],
   "source": [
    "etest = graindist.ExpCutoff(nfold=5)\n",
    "\n",
    "ax = plt.subplot(111)\n",
    "etest.plot(ax, MDTEST, RHO1, label=r\"$\\rho$ = %.1f\"%(RHO1))\n",
    "etest.plot(ax, MDTEST, RHO2, label=r\"$\\rho$ = %.1f\"%(RHO2))\n",
    "plt.legend(loc='upper left')"
   ]
  },
  {
   "cell_type": "code",
   "execution_count": null,
   "metadata": {
    "collapsed": true
   },
   "outputs": [],
   "source": []
  }
 ],
 "metadata": {
  "kernelspec": {
   "display_name": "Python 2",
   "language": "python",
   "name": "python2"
  },
  "language_info": {
   "codemirror_mode": {
    "name": "ipython",
    "version": 2
   },
   "file_extension": ".py",
   "mimetype": "text/x-python",
   "name": "python",
   "nbconvert_exporter": "python",
   "pygments_lexer": "ipython2",
   "version": "2.7.11"
  }
 },
 "nbformat": 4,
 "nbformat_minor": 0
}
