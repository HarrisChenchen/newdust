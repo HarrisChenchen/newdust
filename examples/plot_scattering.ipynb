{
 "cells": [
  {
   "cell_type": "markdown",
   "metadata": {},
   "source": [
    "# How to use newdust scattering models\n",
    "\n",
    "There are a variety of physical assumptions and numerical methods that can be applied to model the propagation of light through a solid material. The `newdust` library provides allows the user to employ these methodologies in an interchnageable way. The `newdust.scatteringmodel` module provides the following extinction calculators:\n",
    "\n",
    "+ `newdust.scatteringmodel.Mie()` employs the Bohren & Huffman (1983) Mie-scattering algorithm, which has been sped up through the used of vectorized computations. This can be  demanding on temporary (RAM) memory storage, depending on the wavelength resolution or number of grain radii used. Some care is needed for calculating extinction in high resolution.\n",
    "+ `newdust.scatteringmodel.RGscattering()` employs the Rayleigh-Gans approximation, which is relevant for dust grains that are much bigger than the wavelength of light and relatively transparent to the incoming light waves (i.e., $|m-1| << 1$, where $m$ is the complex index of refraction)\n",
    "+ `newdust.scatteringmodel.PAH` reads and interpolates over the tables for the extinction properties of poly-cyclic aromatic hydrocarbons (PAHs) from Li & Draine (2001)\n",
    "\n",
    "This notebook demonstrates how to set up a dust extinction model and run an extinction calculation. To compute extinction, the scattering model needs to receive a `newdust.graindist.composition.Composition` object, which provides the optical constants for the compound, and an array of grain radii. If no units are attached the the grain radii (via Astropy units), then the input is assumed to have units of microns.\n"
   ]
  },
  {
   "cell_type": "code",
   "execution_count": null,
   "metadata": {},
   "outputs": [],
   "source": [
    "import numpy as np\n",
    "import matplotlib.pyplot as plt\n",
    "\n",
    "import astropy.units as u\n",
    "import astropy.constants as c\n",
    "\n",
    "import newdust\n",
    "\n",
    "%matplotlib inline"
   ]
  },
  {
   "cell_type": "markdown",
   "metadata": {},
   "source": [
    "## Rayleigh-Gans model\n",
    "\n",
    "This example shows how to compute Rayleigh-Gans scattering with the Drude approximation."
   ]
  },
  {
   "cell_type": "code",
   "execution_count": null,
   "metadata": {},
   "outputs": [],
   "source": [
    "# Energy grid that we will use to compute the scattering model\n",
    "ENERGY = np.logspace(-1,1,30) * u.keV\n",
    "\n",
    "# We'll compute the properties for a single grain size\n",
    "AUM    = np.array([1.0]) * u.micron\n",
    "\n",
    "THETA  = np.logspace(-5., np.log10(np.pi), 1000) * u.rad"
   ]
  },
  {
   "cell_type": "code",
   "execution_count": null,
   "metadata": {},
   "outputs": [],
   "source": [
    "# First initialize a Composition object with the Drude approximation\n",
    "CM = newdust.graindist.composition.CmDrude()\n",
    "\n",
    "# Initialize the Rayleigh-Gan extinction model\n",
    "rgd = newdust.scatteringmodel.RGscattering()\n",
    "\n",
    "# Calculate the extinction for the energy grid assumed above\n",
    "rgd.calculate(ENERGY, AUM, CM)"
   ]
  },
  {
   "cell_type": "markdown",
   "metadata": {},
   "source": [
    "The results of the calculation, which are the various attenuation efficiencies, are stored within the `ScatteringModel` object. Efficiency is defined as the physical cross-section divided by the geometric cross-section; for spherical grains the efficiency is:\n",
    "$$ Q = \\frac{\\sigma}{\\pi a^2} $$\n",
    "where $\\sigma$ is the cross-section for the physical interaction (e.g., scattering) and $a$ is the radius of the dust grain. Efficiency values are unitless.\n",
    "\n",
    " + `ScatteringModel.qsca` holds the scattering efficiency\n",
    " + `ScatteringModel.qabs` holds the absorption efficiency\n",
    " + `ScatteringModel.qext` holds the extinction efficiency (qsca + qabs)\n",
    " + `ScatteringModel.diff` holds the differential scattering cross section divided by the geometric cross-section\n",
    " \n",
    "The integrated extinction efficiencies -- `qsca`, `qabs`, and `qext` -- are 2-D numpy arrays with dimensions (NE, NA), where NE is the length of the input wavelength or energy grid, and NA is the length of the input grain size grid.\n",
    "\n",
    "The differential scattering cross-section, `diff`, is a 3-D numpy array with dimensions (NE, NA, NTH) where NTH is the length of the angular sampling grid (`theta` argument in `ScatteringModel.calculate`)."
   ]
  },
  {
   "cell_type": "code",
   "execution_count": null,
   "metadata": {},
   "outputs": [],
   "source": [
    "plt.plot(ENERGY, rgd.qsca)\n",
    "plt.loglog()"
   ]
  },
  {
   "cell_type": "markdown",
   "metadata": {},
   "source": [
    "The Rayleigh-Gans plus Drude approximation returns a scattering cross-section that decays with $E^{-2}$."
   ]
  },
  {
   "cell_type": "markdown",
   "metadata": {},
   "source": [
    "## Computing a differential scattering cross-section\n",
    "\n",
    "To compute the differential cross-section over a range of angular values, one must input an array (with or without units) using the `theta` keyword. If no unit is specified via the astropy units package, the values are assumed to have units of radians.\n",
    "\n",
    "By default, the argument for `theta` is set to 0. You will only need to input a value for `theta` if you wish to evaluate scattering as a function of angle."
   ]
  },
  {
   "cell_type": "code",
   "execution_count": null,
   "metadata": {},
   "outputs": [],
   "source": [
    "rgd2 = newdust.scatteringmodel.RGscattering()\n",
    "rgd2.calculate(ENERGY, AUM, CM, theta=THETA)"
   ]
  },
  {
   "cell_type": "markdown",
   "metadata": {},
   "source": [
    "Below, I print the shape of the stored efficiency arrays to verify their dimensionality.\n",
    "\n",
    "$Q_{\\rm sca}$ is, by definition, integrated over all scattering angles. So it is a function of wavelength/energy and grain radius. When I print the shape, I see that it has dimensions of `(len(ENERGY), len(AUM))`\n",
    "\n",
    "The differential scattering cross-section is a function of wavelength/energy, grain radius, and angle. It has dimensions of `(len(ENERGY), len(AUM), len(THETA_ASEC))`"
   ]
  },
  {
   "cell_type": "code",
   "execution_count": null,
   "metadata": {},
   "outputs": [],
   "source": [
    "rgd2.qsca.shape"
   ]
  },
  {
   "cell_type": "code",
   "execution_count": null,
   "metadata": {},
   "outputs": [],
   "source": [
    "rgd2.diff.shape"
   ]
  },
  {
   "cell_type": "markdown",
   "metadata": {},
   "source": [
    "Seeing the shape of the objects helps to understand how to access the differential cross-section information. \n",
    "\n",
    "To see how the differential cross-section changes with energy, I plot the differential scattering cross-section of the lowest energy value (indexed by 0) and the highest energy value (indexed by -1, i.e., the last value in the ENERGY array). \n",
    "\n",
    "Since there is only one grain radius value, we use 0 along the 2nd dimension in the array."
   ]
  },
  {
   "cell_type": "code",
   "execution_count": null,
   "metadata": {},
   "outputs": [],
   "source": [
    "xunit = 'arcmin'\n",
    "plt.plot(THETA.to(xunit), rgd2.diff[0,0,:], 'b-', lw=2, label=ENERGY[0])\n",
    "plt.plot(THETA.to(xunit), rgd2.diff[-1,0,:], 'k--', lw=2, label=ENERGY[-1])\n",
    "plt.title(\"Grain radius: {}\".format(AUM[0]))\n",
    "plt.xlabel(r'$\\theta$ ({})'.format(xunit), size=12)\n",
    "plt.ylabel(r'$dQ_{\\rm sca}/d\\Omega$ (ster$^{-1}$)', size=12)\n",
    "plt.loglog()\n",
    "plt.legend()"
   ]
  },
  {
   "cell_type": "markdown",
   "metadata": {},
   "source": [
    "Verify that the differential cross-section integrates to the same scattering efficiency value. Generally, this calculation is accurate on the few percent level."
   ]
  },
  {
   "cell_type": "code",
   "execution_count": null,
   "metadata": {},
   "outputs": [],
   "source": [
    "i = -1 # index for the energy value to check\n",
    "integrand = np.trapz(rgd2.diff[i,0,:] * 2.0*np.pi*np.sin(THETA.to('rad').value), \n",
    "                THETA.to('rad').value)\n",
    "\n",
    "print(integrand/rgd2.qsca[i,0])"
   ]
  },
  {
   "cell_type": "markdown",
   "metadata": {
    "collapsed": true
   },
   "source": [
    "## Mie model\n",
    "\n",
    "This example shows how to compute a Mie scattering model for silicate dust grains at a single wavelength."
   ]
  },
  {
   "cell_type": "code",
   "execution_count": null,
   "metadata": {},
   "outputs": [],
   "source": [
    "# Use a visible wavelength for this calculation\n",
    "wl_V  = 4500. * u.angstrom\n",
    "\n",
    "# Initiate the silicate composition object\n",
    "cm_sil = newdust.graindist.composition.CmSilicate()"
   ]
  },
  {
   "cell_type": "code",
   "execution_count": null,
   "metadata": {},
   "outputs": [],
   "source": [
    "mtest = newdust.scatteringmodel.Mie()\n",
    "mtest.calculate(wl_V, AUM, cm_sil, theta=THETA)"
   ]
  },
  {
   "cell_type": "markdown",
   "metadata": {},
   "source": [
    "Note the shape of the computed differential scattering cross-section, now that we are using only 1 wavelength value."
   ]
  },
  {
   "cell_type": "code",
   "execution_count": null,
   "metadata": {},
   "outputs": [],
   "source": [
    "np.shape(mtest.diff)"
   ]
  },
  {
   "cell_type": "code",
   "execution_count": null,
   "metadata": {},
   "outputs": [],
   "source": [
    "xunit='rad'\n",
    "plt.plot(THETA.to(xunit), mtest.diff[0,0,:])\n",
    "plt.semilogy()\n",
    "plt.xlabel(r'$\\theta$ ({})'.format(xunit), size=12)\n",
    "plt.ylabel(r'$dQ_{\\rm sca}/d\\Omega$ (ster$^{-1}$)', size=12)"
   ]
  },
  {
   "cell_type": "markdown",
   "metadata": {},
   "source": [
    "Verify that the differential cross-section integrates to the same scattering efficiency value."
   ]
  },
  {
   "cell_type": "code",
   "execution_count": null,
   "metadata": {},
   "outputs": [],
   "source": [
    "test = np.trapz(mtest.diff * 2.0*np.pi*np.sin(THETA.to('rad').value), THETA.to('rad').value)\n",
    "print(test/mtest.qsca)"
   ]
  },
  {
   "cell_type": "markdown",
   "metadata": {
    "collapsed": true
   },
   "source": [
    "### Warning: The Mie scattering model can take up memory\n",
    "\n",
    "The Mie scattering model uses multi-dimensional arrays instead of for-loops to complete a calculation. Unfortunately, this computation can easily exceed the amount of RAM available on a typical laptop or desktop computer, which can crash your system. To avoid crashing, the `newdust.scatteringmodel.Mie.calculate` method estimates the amount of memory the computation will take and prints a warning statement instead of performing the calculation.\n",
    "\n",
    "The memory limitation is assumed to be 8 GB by default. The below example shows what happens when you hit this limit. If you have more RAM available to your system, you can override the default by setting the `memlim` keyword."
   ]
  },
  {
   "cell_type": "code",
   "execution_count": null,
   "metadata": {},
   "outputs": [],
   "source": [
    "# High energy calculations take up a LOT of memory. \n",
    "# Here is a ridiculous example that will cause us to exceed the default memory limit.\n",
    "EGRID = np.linspace(1000., 5000., 2) * u.keV  \n",
    "AVALS = np.linspace(0.1, 0.5, 20) * u.micron\n",
    "\n",
    "mtest2 = newdust.scatteringmodel.Mie()\n",
    "mtest2.calculate(EGRID, AVALS, cm_sil, theta=THETA)"
   ]
  },
  {
   "cell_type": "markdown",
   "metadata": {},
   "source": [
    "**WARNING:** Do not run the following code if you have a memory limited machine (8 GB RAM or less).\n",
    "\n",
    "According to the printed statement above, this calculation is estimated to take up a little over 8 GB of RAM. My machine has 16 GB of RAM, so I could technically run this calculation. The lines below show you to increase the `memlim` keyword value to 8.3 GB, which will allow the computation should proceed.\n",
    "\n",
    "```\n",
    "mtest2 = newdust.scatteringmodel.Mie()\n",
    "mtest2.calculate(EGRID, AVALS, cm_sil, theta=THETA, memlim=8.3)\n",
    "```"
   ]
  },
  {
   "cell_type": "markdown",
   "metadata": {},
   "source": [
    "However, this is a silly example because dust scattering isn't a phenomenon witnessed at 5 GeV."
   ]
  },
  {
   "cell_type": "markdown",
   "metadata": {},
   "source": [
    "### Mie Scattering computation with slightly higher dimensionality\n",
    "\n",
    "The following code gives an example of examining the results of a Mie scattering computation where all three dimensions (energy/wavelength, grain radius, and scattering angle) are utilized."
   ]
  },
  {
   "cell_type": "code",
   "execution_count": null,
   "metadata": {},
   "outputs": [],
   "source": [
    "LAMVALS = np.linspace(1000.,5000.,5) * u.angstrom\n",
    "AVALS   = np.linspace(0.1, 0.5, 20) * u.micron\n",
    "\n",
    "mtest3 = newdust.scatteringmodel.Mie()\n",
    "mtest3.calculate(LAMVALS, AVALS, cm_sil, theta=THETA)"
   ]
  },
  {
   "cell_type": "markdown",
   "metadata": {},
   "source": [
    "Now I can compare the differential scattering cross-section for two different wavelengths:"
   ]
  },
  {
   "cell_type": "code",
   "execution_count": null,
   "metadata": {},
   "outputs": [],
   "source": [
    "xunit = 'rad'\n",
    "plt.plot(THETA.to(xunit), mtest3.diff[0,0,:], label=LAMVALS[0])\n",
    "plt.plot(THETA.to(xunit), mtest3.diff[-1,0,:], label=LAMVALS[-1])\n",
    "plt.semilogy()\n",
    "\n",
    "plt.title(\"Grain radius: {}\".format(AVALS[0]), size=12)\n",
    "plt.xlabel(r'$\\theta$ ({})'.format(xunit), size=12)\n",
    "plt.ylabel(r'$dQ_{\\rm sca}/d\\Omega$ (ster$^{-1}$)', size=12)\n",
    "plt.legend()"
   ]
  },
  {
   "cell_type": "markdown",
   "metadata": {},
   "source": [
    "or two different grain sizes:"
   ]
  },
  {
   "cell_type": "code",
   "execution_count": null,
   "metadata": {},
   "outputs": [],
   "source": [
    "xunit = 'rad'\n",
    "plt.plot(THETA.to(xunit), mtest3.diff[0,0,:], label=AVALS[0])\n",
    "plt.plot(THETA.to(xunit), mtest3.diff[0,-1,:], label=AVALS[-1])\n",
    "plt.semilogy()\n",
    "\n",
    "plt.title(\"Wavelength: {}\".format(LAMVALS[0]), size=12)\n",
    "plt.xlabel(r'$\\theta$ ({})'.format(xunit), size=12)\n",
    "plt.ylabel(r'$dQ_{\\rm sca}/d\\Omega$ (ster$^{-1}$)', size=12)\n",
    "plt.legend()"
   ]
  },
  {
   "cell_type": "code",
   "execution_count": null,
   "metadata": {},
   "outputs": [],
   "source": []
  }
 ],
 "metadata": {
  "kernelspec": {
   "display_name": "newdust-dev",
   "language": "python",
   "name": "newdust-dev"
  },
  "language_info": {
   "codemirror_mode": {
    "name": "ipython",
    "version": 3
   },
   "file_extension": ".py",
   "mimetype": "text/x-python",
   "name": "python",
   "nbconvert_exporter": "python",
   "pygments_lexer": "ipython3",
   "version": "3.10.1"
  }
 },
 "nbformat": 4,
 "nbformat_minor": 1
}
