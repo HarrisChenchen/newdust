{
 "cells": [
  {
   "cell_type": "code",
   "execution_count": 1,
   "metadata": {
    "collapsed": false
   },
   "outputs": [
    {
     "name": "stderr",
     "output_type": "stream",
     "text": [
      "//anaconda/lib/python2.7/site-packages/matplotlib/font_manager.py:273: UserWarning: Matplotlib is building the font cache using fc-list. This may take a moment.\n",
      "  warnings.warn('Matplotlib is building the font cache using fc-list. This may take a moment.')\n"
     ]
    }
   ],
   "source": [
    "import numpy as np\n",
    "import matplotlib.pyplot as plt\n",
    "\n",
    "%matplotlib inline"
   ]
  },
  {
   "cell_type": "code",
   "execution_count": 2,
   "metadata": {
    "collapsed": true
   },
   "outputs": [],
   "source": [
    "from newdust import *\n",
    "from newdust.halos import *\n",
    "\n",
    "from scipy.integrate import trapz"
   ]
  },
  {
   "cell_type": "code",
   "execution_count": 23,
   "metadata": {
    "collapsed": false
   },
   "outputs": [],
   "source": [
    "NE, NTH = 50, 200\n",
    "EVALS   = np.logspace(-1, 1, NE)   # keV\n",
    "THVALS  = np.logspace(-1, 4, NTH)  # arcsec\n",
    "GPOP    = grainpop.make_MRN_drude(md=1.e-6)['RGD']"
   ]
  },
  {
   "cell_type": "code",
   "execution_count": 24,
   "metadata": {
    "collapsed": true
   },
   "outputs": [],
   "source": [
    "uni_halo = Halo(EVALS, THVALS, unit='kev')\n",
    "scr_halo = Halo(EVALS, THVALS, unit='kev')"
   ]
  },
  {
   "cell_type": "code",
   "execution_count": 25,
   "metadata": {
    "collapsed": false
   },
   "outputs": [],
   "source": [
    "galhalo.uniformISM(uni_halo, GPOP)"
   ]
  },
  {
   "cell_type": "code",
   "execution_count": 26,
   "metadata": {
    "collapsed": false
   },
   "outputs": [
    {
     "data": {
      "text/plain": [
       "array([  5.67217238e-01,   4.70020465e-01,   3.89479062e-01,\n",
       "         3.22739010e-01,   2.67435348e-01,   2.21608368e-01,\n",
       "         1.83634173e-01,   1.52167130e-01,   1.26092193e-01,\n",
       "         1.04485384e-01,   8.65810584e-02,   7.17447683e-02,\n",
       "         5.94507837e-02,   4.92634623e-02,   4.08218120e-02,\n",
       "         3.38266995e-02,   2.80302501e-02,   2.32270641e-02,\n",
       "         1.92469388e-02,   1.59488368e-02,   1.32158883e-02,\n",
       "         1.09512503e-02,   9.07467445e-03,   7.51966340e-03,\n",
       "         6.23111473e-03,   5.16336819e-03,   4.27858773e-03,\n",
       "         3.54542080e-03,   2.93788732e-03,   2.43445910e-03,\n",
       "         2.01729694e-03,   1.67161853e-03,   1.38517461e-03,\n",
       "         1.14781493e-03,   9.51128548e-04,   7.88145797e-04,\n",
       "         6.53091319e-04,   5.41179401e-04,   4.48444400e-04,\n",
       "         3.71600211e-04,   3.07923829e-04,   2.55158856e-04,\n",
       "         2.11435542e-04,   1.75204533e-04,   1.45181970e-04,\n",
       "         1.20303991e-04,   9.96890323e-05,   8.26065962e-05,\n",
       "         6.84513589e-05,   5.67217238e-05])"
      ]
     },
     "execution_count": 26,
     "metadata": {},
     "output_type": "execute_result"
    }
   ],
   "source": [
    "GPOP.tau_sca"
   ]
  },
  {
   "cell_type": "code",
   "execution_count": 27,
   "metadata": {
    "collapsed": false
   },
   "outputs": [
    {
     "data": {
      "text/plain": [
       "[]"
      ]
     },
     "execution_count": 27,
     "metadata": {},
     "output_type": "execute_result"
    },
    {
     "data": {
      "image/png": "[encoded data removed]",
      "text/plain": [
       "<matplotlib.figure.Figure at 0x11adfe7d0>"
      ]
     },
     "metadata": {},
     "output_type": "display_data"
    }
   ],
   "source": [
    "plt.plot(THVALS, uni_halo.norm_int[-1,:])\n",
    "plt.loglog()"
   ]
  },
  {
   "cell_type": "code",
   "execution_count": 28,
   "metadata": {
    "collapsed": false
   },
   "outputs": [],
   "source": [
    "alph_grid = np.repeat(THVALS.reshape(1, NTH), NE, axis=0)\n",
    "int_halo  = trapz(uni_halo.norm_int * 2.0 * np.pi * alph_grid, THVALS, axis=1)"
   ]
  },
  {
   "cell_type": "code",
   "execution_count": 29,
   "metadata": {
    "collapsed": false
   },
   "outputs": [
    {
     "data": {
      "text/plain": [
       "array([  5.67217238e-01,   4.70020465e-01,   3.89479062e-01,\n",
       "         3.22739010e-01,   2.67435348e-01,   2.21608368e-01,\n",
       "         1.83634173e-01,   1.52167130e-01,   1.26092193e-01,\n",
       "         1.04485384e-01,   8.65810584e-02,   7.17447683e-02,\n",
       "         5.94507837e-02,   4.92634623e-02,   4.08218120e-02,\n",
       "         3.38266995e-02,   2.80302501e-02,   2.32270641e-02,\n",
       "         1.92469388e-02,   1.59488368e-02,   1.32158883e-02,\n",
       "         1.09512503e-02,   9.07467445e-03,   7.51966340e-03,\n",
       "         6.23111473e-03,   5.16336819e-03,   4.27858773e-03,\n",
       "         3.54542080e-03,   2.93788732e-03,   2.43445910e-03,\n",
       "         2.01729694e-03,   1.67161853e-03,   1.38517461e-03,\n",
       "         1.14781493e-03,   9.51128548e-04,   7.88145797e-04,\n",
       "         6.53091319e-04,   5.41179401e-04,   4.48444400e-04,\n",
       "         3.71600211e-04,   3.07923829e-04,   2.55158856e-04,\n",
       "         2.11435542e-04,   1.75204533e-04,   1.45181970e-04,\n",
       "         1.20303991e-04,   9.96890323e-05,   8.26065962e-05,\n",
       "         6.84513589e-05,   5.67217238e-05])"
      ]
     },
     "execution_count": 29,
     "metadata": {},
     "output_type": "execute_result"
    }
   ],
   "source": [
    "uni_halo.taux"
   ]
  },
  {
   "cell_type": "code",
   "execution_count": 30,
   "metadata": {
    "collapsed": false
   },
   "outputs": [
    {
     "data": {
      "text/plain": [
       "[]"
      ]
     },
     "execution_count": 30,
     "metadata": {},
     "output_type": "execute_result"
    },
    {
     "data": {
      "image/png": "[encoded data removed]",
      "text/plain": [
       "<matplotlib.figure.Figure at 0x11acce910>"
      ]
     },
     "metadata": {},
     "output_type": "display_data"
    }
   ],
   "source": [
    "plt.plot(EVALS, int_halo)\n",
    "plt.plot(EVALS, uni_halo.taux, 'ro')\n",
    "plt.loglog()"
   ]
  },
  {
   "cell_type": "code",
   "execution_count": 31,
   "metadata": {
    "collapsed": false
   },
   "outputs": [
    {
     "data": {
      "text/plain": [
       "[<matplotlib.lines.Line2D at 0x11aabb7d0>]"
      ]
     },
     "execution_count": 31,
     "metadata": {},
     "output_type": "execute_result"
    },
    {
     "data": {
      "image/png": "[encoded data removed]",
      "text/plain": [
       "<matplotlib.figure.Figure at 0x11aa774d0>"
      ]
     },
     "metadata": {},
     "output_type": "display_data"
    }
   ],
   "source": [
    "plt.plot(EVALS, int_halo/uni_halo.taux-1.0)"
   ]
  },
  {
   "cell_type": "code",
   "execution_count": 32,
   "metadata": {
    "collapsed": false
   },
   "outputs": [],
   "source": [
    "FABS = 1.0 * np.power(EVALS, -2.0) * np.exp(-0.1 * np.power(EVALS, -3.5))"
   ]
  },
  {
   "cell_type": "code",
   "execution_count": 33,
   "metadata": {
    "collapsed": false
   },
   "outputs": [
    {
     "data": {
      "text/plain": [
       "[<matplotlib.lines.Line2D at 0x11afa2ed0>]"
      ]
     },
     "execution_count": 33,
     "metadata": {},
     "output_type": "execute_result"
    },
    {
     "data": {
      "image/png": "[encoded data removed]",
      "text/plain": [
       "<matplotlib.figure.Figure at 0x11aac1bd0>"
      ]
     },
     "metadata": {},
     "output_type": "display_data"
    }
   ],
   "source": [
    "plt.plot(EVALS, FABS)"
   ]
  },
  {
   "cell_type": "code",
   "execution_count": 34,
   "metadata": {
    "collapsed": false
   },
   "outputs": [],
   "source": [
    "uni_halo.calculate_intensity(FABS)"
   ]
  },
  {
   "cell_type": "code",
   "execution_count": 35,
   "metadata": {
    "collapsed": false
   },
   "outputs": [
    {
     "data": {
      "text/plain": [
       "[]"
      ]
     },
     "execution_count": 35,
     "metadata": {},
     "output_type": "execute_result"
    },
    {
     "data": {
      "image/png": "[encoded data removed]",
      "text/plain": [
       "<matplotlib.figure.Figure at 0x103dac650>"
      ]
     },
     "metadata": {},
     "output_type": "display_data"
    }
   ],
   "source": [
    "plt.plot(THVALS, uni_halo.intensity)\n",
    "plt.loglog()"
   ]
  },
  {
   "cell_type": "code",
   "execution_count": 36,
   "metadata": {
    "collapsed": true
   },
   "outputs": [],
   "source": [
    "tot_halo = trapz(uni_halo.intensity * 2.0 * np.pi * THVALS, THVALS)"
   ]
  },
  {
   "cell_type": "code",
   "execution_count": 37,
   "metadata": {
    "collapsed": false
   },
   "outputs": [
    {
     "data": {
      "text/plain": [
       "0.23266569089585762"
      ]
     },
     "execution_count": 37,
     "metadata": {},
     "output_type": "execute_result"
    }
   ],
   "source": [
    "tot_halo"
   ]
  },
  {
   "cell_type": "code",
   "execution_count": 39,
   "metadata": {
    "collapsed": false
   },
   "outputs": [
    {
     "data": {
      "text/plain": [
       "0.9534818964425209"
      ]
     },
     "execution_count": 39,
     "metadata": {},
     "output_type": "execute_result"
    }
   ],
   "source": [
    "np.sum(uni_halo.fhalo) / tot_halo"
   ]
  },
  {
   "cell_type": "code",
   "execution_count": null,
   "metadata": {
    "collapsed": true
   },
   "outputs": [],
   "source": []
  }
 ],
 "metadata": {
  "kernelspec": {
   "display_name": "Python 2",
   "language": "python",
   "name": "python2"
  },
  "language_info": {
   "codemirror_mode": {
    "name": "ipython",
    "version": 2
   },
   "file_extension": ".py",
   "mimetype": "text/x-python",
   "name": "python",
   "nbconvert_exporter": "python",
   "pygments_lexer": "ipython2",
   "version": "2.7.11"
  }
 },
 "nbformat": 4,
 "nbformat_minor": 0
}
