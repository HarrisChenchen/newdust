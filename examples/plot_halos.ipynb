{
 "cells": [
  {
   "cell_type": "markdown",
   "metadata": {},
   "source": [
    "# How to compute the surface brightness profile for a dust scattering halo\n",
    "\n",
    "The `newdust.halos` module can compute the surface brightness profile for a dust scattering halo under a variety of geometric assumptions. This functionality is provided by two main subclasses of the `newdust.halos.Halo` superclass:\n",
    "\n",
    "* `newdust.halos.UniformGalHalo` assumes that the dust is distributed uniformly between the telescope and the X-ray point source\n",
    "\n",
    "* `newdust.halos.ScreenGalHalo` assumes that the dust is located at an infinitesimally thin screen at the location $x = (1 - d/D)$ where $d$ is the distance between the telescope and the screen, and $D$ is the distance between the telescope and the X-ray point source\n",
    "\n",
    "Through inheritance, all halos have the same attributes as those defined in the `newdust.halos.Halo` class. This notebook demonstrates the functionality of a subset of these attributes:\n",
    "\n",
    "* A `lam` array describing the energy or wavelength grid for the halo\n",
    "\n",
    "* A `theta` array describing the angular grid for the halo\n",
    "\n",
    "* A `calculate` method that takes a `newdust.GrainPop` object and any other arguments necessary to complete the calculation (such as $x$, for a ScreenGalHalo). The results are stored in the `norm_int` and `taux` arrays.\n",
    "\n",
    "* A 2D `norm_int` array of shape `(len(lam), len(theta))` that describes the normalized intensity (intensity divided by flux) for the dust scattring halos, as a function of energy or wavelength\n",
    "\n",
    "* A `taux` array describing the X-ray scattering opacity as a function of energy or wavelength\n",
    "\n",
    "* A `calculate_intensity` method that takes the flux spectrum of the X-ray point source as input. It multiplies the flux values by the `norm_int` array and sums them, storing the final results in the `intensity`, `fabs`, and `fhalo` attributes.\n",
    "\n",
    "* A 1D `intensity` array describing the dust scattering halo surface brightness (e.g., photon/s/cm^2/arcsec^2) integrated over the entire energy/wavelength range\n",
    "\n",
    "* The X-ray point source flux spectrum for the intensity calculation is stored in the `fabs` array. There are some subtleties around the way this is computed and stored based on the input flux spectrum for `calculate_intensity`, but don't worry about it for now.\n",
    "\n",
    "* The `fhalo` array describes the total flux contained in the scattering halo as a function of energy or wavelength."
   ]
  },
  {
   "cell_type": "code",
   "execution_count": null,
   "metadata": {},
   "outputs": [],
   "source": [
    "import numpy as np\n",
    "import matplotlib.pyplot as plt\n",
    "\n",
    "import astropy.units as u\n",
    "import astropy.constants as c\n",
    "\n",
    "import newdust\n",
    "\n",
    "%matplotlib inline"
   ]
  },
  {
   "cell_type": "markdown",
   "metadata": {},
   "source": [
    "## Initial calculation of a dust scattering halo model"
   ]
  },
  {
   "cell_type": "markdown",
   "metadata": {},
   "source": [
    "To initialize the dust scattering halo object, we need to input a grid of energies and angles (representing the angular distances over which the dust scattring halo is visible)."
   ]
  },
  {
   "cell_type": "code",
   "execution_count": null,
   "metadata": {},
   "outputs": [],
   "source": [
    "NE, NTH = 50, 200\n",
    "EVALS   = np.logspace(-1, 1, NE) * u.keV\n",
    "THVALS  = np.logspace(-1, 4, NTH) * u.arcsec\n",
    "\n",
    "# Initialize each halo type\n",
    "uniform_halo = newdust.halos.UniformGalHalo(EVALS, THVALS)\n",
    "screen_halo = newdust.halos.ScreenGalHalo(EVALS, THVALS)"
   ]
  },
  {
   "cell_type": "markdown",
   "metadata": {},
   "source": [
    "To calculate the intensity profile, we need to tell it what types of dust grains are doing the scattering (grain size distribution and composition). This information is stored in a `newdust.GrainPop` object. \n",
    "\n",
    "In the case below, we use the Rayleigh-Gans plus Drude approximation, which treats the dust grain as a ball of electrons, making it relatively insensitive to composition, compared to Mie scattering. The shortcut function, `newdust.make_MRN_RGDrude` sets up a standard power-law distribution of dust grain sizes (see MRN 1977) with the RG-Drude approximation for composition."
   ]
  },
  {
   "cell_type": "code",
   "execution_count": null,
   "metadata": {},
   "outputs": [],
   "source": [
    "GPOP = newdust.make_MRN_RGDrude(md=1.e-6)"
   ]
  },
  {
   "cell_type": "markdown",
   "metadata": {},
   "source": [
    "Now we use the `calculate` method to run the scattering halo calculation with the specified dust grain population.\n",
    "\n",
    "Here, I'm using $x=0.33$ which means the dust screen is 2/3 of the way along the sight line between the telescope and the background X-ray point source.\n",
    "\n",
    "The `%%time` command at the top of the cell makes it print the amount of time it took to run the calculation."
   ]
  },
  {
   "cell_type": "code",
   "execution_count": null,
   "metadata": {},
   "outputs": [],
   "source": [
    "%%time\n",
    "screen_halo.calculate(GPOP, x=0.33)"
   ]
  },
  {
   "cell_type": "markdown",
   "metadata": {},
   "source": [
    "For the case of dust distributed uniformly along the line of sight, it performs the integral over the scattering profile from a large number of `x` values. We can specify how fine of a grid to integrate over using the `nx` keyword. Try adjusting the `nx` value to see how the speed of this calculation changes. You should also note how changing the `nx` value affects the shape of the scattering profile when we plot it, later on in this notebook."
   ]
  },
  {
   "cell_type": "code",
   "execution_count": null,
   "metadata": {},
   "outputs": [],
   "source": [
    "%%time\n",
    "uniform_halo.calculate(GPOP, nx=100)"
   ]
  },
  {
   "cell_type": "markdown",
   "metadata": {},
   "source": [
    "The results of the calculation are stored in the `norm_int` attribute, which has a shape of `(len(lam), len(theta))`. This gives the normalized intensity (surface brightness divided by flux) for the dust scattering halo, as a function of energy. To view a single halo profile, we have to select what energy to plot.\n",
    "\n",
    "Below, I choose an energy index value at random to plot. Try other index values to see how the scattering halos profile shapes change with energy."
   ]
  },
  {
   "cell_type": "code",
   "execution_count": null,
   "metadata": {},
   "outputs": [],
   "source": [
    "i = 10\n",
    "\n",
    "plt.plot(THVALS, screen_halo.norm_int[i,:], label='Screen halo')\n",
    "plt.plot(THVALS, uniform_halo.norm_int[i,:], label='Uniform halo')\n",
    "plt.loglog()\n",
    "plt.legend()\n",
    "\n",
    "plt.title(\"Photon Energy = {:.2f}\".format(EVALS[i]))\n",
    "plt.xlabel(r\"Angular Distance from Point Source ({})\".format(THVALS.unit))\n",
    "plt.ylabel(r\"Normalized Intensity ({})\".format(screen_halo.norm_int.unit))"
   ]
  },
  {
   "cell_type": "markdown",
   "metadata": {},
   "source": [
    "## Testing that the halo calculation is correct"
   ]
  },
  {
   "cell_type": "markdown",
   "metadata": {},
   "source": [
    "Here we want to test that the scattring halo calculation has proceded correctly. Using the trapezoidal integration function from numpy, we can integrate the scattering halo surface brightness profile described in `norm_int`, in just a few lines."
   ]
  },
  {
   "cell_type": "code",
   "execution_count": null,
   "metadata": {},
   "outputs": [],
   "source": [
    "# Make a 2D grid of theta values to match the shape \n",
    "# of the `norm_int` array\n",
    "theta_grid = np.repeat(THVALS.reshape(1, NTH), NE, axis=0)\n",
    "\n",
    "# Integrate the surface brightness profile.\n",
    "# Don't forget the factor of 2 pi sin(theta), for spherical coordinates\n",
    "# Because we are using small angles, we can use sin(theta) -> theta\n",
    "# Also because the units of norm_int are arcsec^-2, we can keep theta_grid\n",
    "# in units of arcsec\n",
    "integrated_uniform_halo = np.trapz(uniform_halo.norm_int * \\\n",
    "                                    2.0 * np.pi * theta_grid, \n",
    "                                    THVALS, axis=1)\n",
    "integrated_screen_halo  = np.trapz(screen_halo.norm_int * \\\n",
    "                                    2.0 * np.pi * theta_grid, \n",
    "                                    THVALS, axis=1)"
   ]
  },
  {
   "cell_type": "markdown",
   "metadata": {},
   "source": [
    "The plots below demonstrate that integrating over the normalized dust scattering halos returns the scattering optical depth for that energy value. This is correct for the optically thin case ($\\tau_{\\rm sca} < 1$).\n",
    "\n",
    "Note that both scattering halos (Uniform and Screen) have the same `taux` values -- only different shapes!"
   ]
  },
  {
   "cell_type": "code",
   "execution_count": null,
   "metadata": {},
   "outputs": [],
   "source": [
    "plt.plot(EVALS, uniform_halo.taux, 'rs', label='Uniform')\n",
    "plt.plot(EVALS, integrated_uniform_halo, color='k', label='')\n",
    "\n",
    "plt.plot(EVALS, screen_halo.taux, 'bo', label='Screen')\n",
    "plt.plot(EVALS, integrated_screen_halo, color='k', label='')\n",
    "\n",
    "plt.loglog()\n",
    "plt.legend()\n",
    "\n",
    "plt.xlabel(EVALS.unit)\n",
    "plt.ylabel(r'X-ray Scattering Opacity ($\\tau_{\\rm sca}$)')"
   ]
  },
  {
   "cell_type": "markdown",
   "metadata": {},
   "source": [
    "This plot shows how accurate our calculation was by plotting the fractional difference between our integrated halos and the `taux` value. A fractional difference of 0 means that our integration exactly matches the `taux` value. In general, our calculations are tuned to a few percent accuracty. Later on, we may wish to evaluate ways to obtain higher accuracy."
   ]
  },
  {
   "cell_type": "code",
   "execution_count": null,
   "metadata": {},
   "outputs": [],
   "source": [
    "plt.plot(EVALS, integrated_uniform_halo/uniform_halo.taux-1.0, \n",
    "         label='Uniform')\n",
    "plt.plot(EVALS, integrated_screen_halo/screen_halo.taux-1.0, \n",
    "         label='Screen')\n",
    "plt.legend()\n",
    "plt.xlabel(EVALS.unit)\n",
    "plt.ylabel('Fractional Difference (halo integration/taux - 1.0)')"
   ]
  },
  {
   "cell_type": "markdown",
   "metadata": {},
   "source": [
    "## Calculate the scattering halo intensity, given a point source spectrum"
   ]
  },
  {
   "cell_type": "markdown",
   "metadata": {},
   "source": [
    "Recall that the `newdust.Halo.calculate_intensity` method will calculate the total dust scattering halo intensity, summed across the energy or wavelength grid specified in the `newdust.Halo.lam` attribute.\n",
    "\n",
    "Below, I construct a model spectrum that is similar in shape to many Galactic X-ray binaries. The `calculate_intensity` code uses `numpy.sum` to integrate. For this type of calculation to be accurate, the input flux spectrum must represent the \"bin-integrated\" flux, meaning that each point in the spectrum represents the total number of counts (or energy) within some energy/wavelength bin where the `lam` array represents the center of those energy/wavelength bins.\n",
    "\n",
    "The bin-integrated flux has units, e.g., photon counts/cm$^2$/s (rather than the specific flux, which has units of, e.g., photons/cm$^2$/s/keV). Note how I have assigned these units to the model spectrum."
   ]
  },
  {
   "cell_type": "code",
   "execution_count": null,
   "metadata": {},
   "outputs": [],
   "source": [
    "# Approximation of a typical Galactic X-ray Binary spectrum\n",
    "FABS = 1.0 * np.power(EVALS.value, -2.5) * \\\n",
    "       np.exp(-0.1 * np.power(EVALS.value, -3.5)) * \\\n",
    "       u.Unit('ct s^-1 cm^-2')\n",
    "plt.plot(EVALS, FABS)\n",
    "plt.loglog()\n",
    "plt.xlabel(EVALS.unit)\n",
    "plt.ylabel(FABS.unit)\n",
    "plt.ylim(1.e-12, 1.e3)"
   ]
  },
  {
   "cell_type": "markdown",
   "metadata": {},
   "source": [
    "Now we can run the `calculate_intensity` method for each model halo, with the model X-ray binary spectrum as input."
   ]
  },
  {
   "cell_type": "code",
   "execution_count": null,
   "metadata": {},
   "outputs": [],
   "source": [
    "screen_halo.calculate_intensity(FABS)\n",
    "uniform_halo.calculate_intensity(FABS)"
   ]
  },
  {
   "cell_type": "markdown",
   "metadata": {},
   "source": [
    "The results of the calculation are stored in the `intensity` attribute of each Halo. The results represent the sum of the surface brightness profiles at all energies, resulting in a 1D array with length equal to `len(theta)`.\n",
    "\n",
    "Below, we plot the scattering halo surface brightness profile, as it is stored in the `intensity` attribute. Note how the units have carried through from the model spectrum and the `norm_int` array."
   ]
  },
  {
   "cell_type": "code",
   "execution_count": null,
   "metadata": {},
   "outputs": [],
   "source": [
    "plt.plot(THVALS, screen_halo.intensity, label='Screen halo')\n",
    "plt.plot(THVALS, uniform_halo.intensity, label='Uniform halo')\n",
    "plt.loglog()\n",
    "plt.legend()\n",
    "\n",
    "plt.xlabel(r\"Angular Distance from Point Source ({})\".format(THVALS.unit))\n",
    "plt.ylabel(r\"{}\".format(screen_halo.intensity.unit))\n",
    "plt.title(\"Scattering halo surface brightness ({:.2f} - {:.2f} keV)\".format(\n",
    "          EVALS[0].to('keV').value, EVALS[-1].to('keV').value))"
   ]
  },
  {
   "cell_type": "markdown",
   "metadata": {},
   "source": [
    "If we want to know the total flux in the scattering halo, we need to integrate it over the total area. Don't forget the factor of $2 \\pi \\theta$\n",
    "\n",
    "Note also, because both halos were calculated with the same GrainPop and dust mass column, they integrate to the same values, despite having different shapes."
   ]
  },
  {
   "cell_type": "code",
   "execution_count": null,
   "metadata": {},
   "outputs": [],
   "source": [
    "print(\"Total flux in Uniform scattering halo {:.3f}\".format( \n",
    "      np.trapz(uniform_halo.intensity * 2.0 * np.pi * THVALS, THVALS)))\n",
    "\n",
    "print(\"Total flux in Screen scattering halo {:.3f}\".format( \n",
    "      np.trapz(uniform_halo.intensity * 2.0 * np.pi * THVALS, THVALS)))"
   ]
  },
  {
   "cell_type": "markdown",
   "metadata": {},
   "source": [
    "After running `calculate_intensity`, the `fhalo` attribute will return the flux spectrum of the scattering halo as a function of energy/wavelength."
   ]
  },
  {
   "cell_type": "code",
   "execution_count": null,
   "metadata": {},
   "outputs": [],
   "source": [
    "plt.plot(EVALS, FABS, color='k', label='Input Flux for calculate_intensity')\n",
    "plt.plot(EVALS, FABS, color='r', label='ISM Absorbed Flux')\n",
    "plt.plot(EVALS, uniform_halo.fhalo, \n",
    "         color='g', label='Uniform Halo Flux')\n",
    "plt.plot(EVALS, screen_halo.fhalo, \n",
    "         color='b', ls='--', label='Screen Halo Flux')\n",
    "plt.loglog()\n",
    "plt.legend()\n",
    "plt.ylim(1.e-12, 1e3)\n",
    "plt.xlabel(EVALS.unit)\n",
    "plt.ylabel('Flux ({})'.format(uniform_halo.fhalo.unit))"
   ]
  },
  {
   "cell_type": "markdown",
   "metadata": {},
   "source": [
    "## Indexing and slicing dust scattering halo arrays\n",
    "\n",
    "Just like a typicaly numpy array, we can index or slice the dust scattering halos. Instead of indexing with natural numbers corresponding to the position in th array, we can slice the Halo objects according to energy or wavelength. Slicing returns a new `newdust.Halo` object corresponding to a sub-set of the original Halo.\n",
    "\n",
    "To index or slice, we must use numbers that correspond to the same units used to define the `newdust.Halo.lam` array. So if you defined `lam` using Angstrom units, you cannot specify a slice using keV units."
   ]
  },
  {
   "cell_type": "code",
   "execution_count": null,
   "metadata": {},
   "outputs": [],
   "source": [
    "uh1 = uniform_halo[:3.0] # Halo object covering a subset of energies: Everything below 3 keV\n",
    "uh2 = uniform_halo[3.0:] # Halo object covering a subset of energies: Everything above 3 keV\n",
    "\n",
    "# Verify the energy ranges\n",
    "print(\"Uniform Halo 1: {:.2f} - {:.2f} keV\".format(uh1.lam[0].value, uh1.lam[-1].value))\n",
    "print(\"Uniform Halo 2: {:.2f} - {:.2f} keV\".format(uh2.lam[0].value, uh2.lam[-1].value))"
   ]
  },
  {
   "cell_type": "markdown",
   "metadata": {},
   "source": [
    "All of the previous calculations carry over to the sliced Halo object. Including the intensity calculations!"
   ]
  },
  {
   "cell_type": "code",
   "execution_count": null,
   "metadata": {},
   "outputs": [],
   "source": [
    "# Plot the taux values\n",
    "plt.plot(uh1.lam, uh1.taux, 'rs', label='Uniform Halo Slice 1')\n",
    "plt.plot(uh2.lam, uh2.taux, 'gs', label='Uniform Halo Slice 2')\n",
    "plt.plot(uniform_halo.lam, uniform_halo.taux, 'k-', label='Original Uniform Halo')\n",
    "plt.loglog()\n",
    "plt.xlabel(uh1.lam.unit)\n",
    "plt.ylabel('X-ray scattering opacity (taux)')\n",
    "plt.legend()"
   ]
  },
  {
   "cell_type": "code",
   "execution_count": null,
   "metadata": {},
   "outputs": [],
   "source": [
    "# Plot the scattering halo intensities for each energy range\n",
    "plt.plot(uh1.theta, uh1.intensity, \n",
    "         label='{:.2f}-{:.2f} keV'.format(uh1.lam[0].value, uh1.lam[-1].value))\n",
    "plt.plot(uh2.theta, uh2.intensity, \n",
    "         label='{:.2f}-{:.2f} keV'.format(uh2.lam[0].value, uh2.lam[-1].value))\n",
    "plt.loglog()\n",
    "plt.legend()\n",
    "plt.xlabel(uh1.theta.unit)\n",
    "plt.ylabel(uh2.intensity.unit)\n",
    "plt.title(\"Uniform Halo surface brightness profile\")"
   ]
  },
  {
   "cell_type": "code",
   "execution_count": null,
   "metadata": {},
   "outputs": [],
   "source": []
  }
 ],
 "metadata": {
  "kernelspec": {
   "display_name": "newdust-dev",
   "language": "python",
   "name": "newdust-dev"
  },
  "language_info": {
   "codemirror_mode": {
    "name": "ipython",
    "version": 3
   },
   "file_extension": ".py",
   "mimetype": "text/x-python",
   "name": "python",
   "nbconvert_exporter": "python",
   "pygments_lexer": "ipython3",
   "version": "3.10.1"
  }
 },
 "nbformat": 4,
 "nbformat_minor": 1
}
