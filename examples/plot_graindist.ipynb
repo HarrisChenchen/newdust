{
 "cells": [
  {
   "cell_type": "code",
   "execution_count": null,
   "metadata": {},
   "outputs": [],
   "source": [
    "import numpy as np\n",
    "import matplotlib.pyplot as plt\n",
    "\n",
    "%matplotlib inline"
   ]
  },
  {
   "cell_type": "code",
   "execution_count": null,
   "metadata": {
    "collapsed": true
   },
   "outputs": [],
   "source": [
    "from newdust import graindist"
   ]
  },
  {
   "cell_type": "code",
   "execution_count": null,
   "metadata": {},
   "outputs": [],
   "source": [
    "# Some basic magic numbers\n",
    "\n",
    "AMAX = 0.3 # maximum grain size, in um\n",
    "RHO  = 3.0 # grain material density, in g cm^-3\n",
    "MD   = 1.e-5 # dust mass column, g cm^-2"
   ]
  },
  {
   "cell_type": "markdown",
   "metadata": {},
   "source": [
    "## Making a GrainDist object from scratch"
   ]
  },
  {
   "cell_type": "code",
   "execution_count": null,
   "metadata": {
    "collapsed": true
   },
   "outputs": [],
   "source": [
    "MRN  = graindist.sizedist.Powerlaw(amax=AMAX)\n",
    "ECUT = graindist.sizedist.ExpCutoff(acut=AMAX)\n",
    "SIL  = graindist.composition.CmSilicate(rho=RHO)"
   ]
  },
  {
   "cell_type": "code",
   "execution_count": null,
   "metadata": {},
   "outputs": [],
   "source": [
    "gd_mrn  = graindist.GrainDist(MRN, SIL, md=MD, custom=True)\n",
    "gd_ecut = graindist.GrainDist(ECUT, SIL, md=MD, custom=True)"
   ]
  },
  {
   "cell_type": "code",
   "execution_count": null,
   "metadata": {},
   "outputs": [],
   "source": [
    "ax = plt.subplot(111)\n",
    "gd_mrn.plot(ax, color='k', lw=2, label='Powerlaw')\n",
    "gd_ecut.plot(ax, color='b', lw=2, alpha=0.8, label='Exponential cut-off')\n",
    "plt.legend(loc='upper left', frameon=False)"
   ]
  },
  {
   "cell_type": "markdown",
   "metadata": {},
   "source": [
    "## Making a GrainDist object with helper function\n",
    "\n",
    "This is a shortcut for making some common grain distributions\n",
    "\n",
    "You can change AMAX and RHO from here, too\n",
    "\n",
    "For the different grain size distributions, amax acts in a different way:\n",
    "\n",
    "+ *graindist.sizedist.Grain:* amax sets the singular grain size\n",
    "\n",
    "+ *graindist.sizedist.Powerlaw:* amax sets the maximum grain size in the distribution\n",
    "\n",
    "+ *graindist.sizedist.ExpCutoff:* amax sets the \"acut\" value"
   ]
  },
  {
   "cell_type": "code",
   "execution_count": null,
   "metadata": {},
   "outputs": [],
   "source": [
    "gd_mrn2 = graindist.GrainDist('Powerlaw', 'Silicate', amax=AMAX, rho=RHO, md=MD)\n",
    "gd_ecut2 = graindist.GrainDist('ExpCutoff', 'Silicate', amax=AMAX, rho=RHO, md=MD)"
   ]
  },
  {
   "cell_type": "code",
   "execution_count": null,
   "metadata": {},
   "outputs": [],
   "source": [
    "ax = plt.subplot(111)\n",
    "gd_mrn.plot(ax, color='k', lw=2, label='')\n",
    "gd_mrn2.plot(ax, color='r', lw=2, ls='--', label='Powerlaw')\n",
    "\n",
    "gd_ecut.plot(ax, color='k', lw=2, label='')\n",
    "gd_ecut2.plot(ax, color='b', lw=2, ls='--', label='Exponential Cutoff')\n",
    "plt.legend(loc='upper left', frameon=False)"
   ]
  },
  {
   "cell_type": "markdown",
   "metadata": {},
   "source": [
    "### Note that the values I've used in this example are different from the defaults\n",
    "\n",
    "Silicate has a default grain material density of 3.8 g cm^-3"
   ]
  },
  {
   "cell_type": "code",
   "execution_count": null,
   "metadata": {
    "collapsed": true
   },
   "outputs": [],
   "source": [
    "gd_mrn3 = graindist.GrainDist('Powerlaw', 'Silicate', md=MD)\n",
    "gd_ecut3 = graindist.GrainDist('ExpCutoff', 'Silicate', md=MD)"
   ]
  },
  {
   "cell_type": "code",
   "execution_count": null,
   "metadata": {},
   "outputs": [],
   "source": [
    "ax = plt.subplot(111)\n",
    "gd_mrn.plot(ax, color='k', lw=2, label='')\n",
    "gd_mrn3.plot(ax, color='r', lw=2, ls='--', label='Powerlaw')\n",
    "\n",
    "gd_ecut.plot(ax, color='k', lw=2, label='')\n",
    "gd_ecut3.plot(ax, color='b', lw=2, ls='--', label='Exponential Cutoff')\n",
    "plt.legend(loc='upper left', frameon=False)"
   ]
  },
  {
   "cell_type": "markdown",
   "metadata": {},
   "source": [
    "## You can also get the mass density of dust grains\n",
    "\n",
    "But the GrainDist.plot function only does number density"
   ]
  },
  {
   "cell_type": "code",
   "execution_count": null,
   "metadata": {},
   "outputs": [],
   "source": [
    "plt.plot(gd_mrn.a, gd_mrn.mdens, label='Powerlaw')\n",
    "plt.plot(gd_ecut.a, gd_ecut.mdens, label='ExpCutoff')\n",
    "plt.loglog()\n",
    "plt.xlabel('Radius (um)')\n",
    "plt.ylabel('Mass density (g cm$^{-2}$ um$^{-1}$)')\n",
    "plt.legend(loc='upper right', frameon=False)"
   ]
  },
  {
   "cell_type": "markdown",
   "metadata": {},
   "source": [
    "### You can't plot single grain sizes\n",
    "\n",
    "It prints the number density instead"
   ]
  },
  {
   "cell_type": "code",
   "execution_count": null,
   "metadata": {
    "collapsed": true
   },
   "outputs": [],
   "source": [
    "gd_single = graindist.GrainDist('Grain', 'Silicate', amax=AMAX)"
   ]
  },
  {
   "cell_type": "code",
   "execution_count": null,
   "metadata": {},
   "outputs": [],
   "source": [
    "gd_single.plot()"
   ]
  },
  {
   "cell_type": "code",
   "execution_count": null,
   "metadata": {
    "collapsed": true
   },
   "outputs": [],
   "source": []
  }
 ],
 "metadata": {
  "kernelspec": {
   "display_name": "Python 3",
   "language": "python",
   "name": "python3"
  },
  "language_info": {
   "codemirror_mode": {
    "name": "ipython",
    "version": 3
   },
   "file_extension": ".py",
   "mimetype": "text/x-python",
   "name": "python",
   "nbconvert_exporter": "python",
   "pygments_lexer": "ipython3",
   "version": "3.6.2"
  }
 },
 "nbformat": 4,
 "nbformat_minor": 1
}
