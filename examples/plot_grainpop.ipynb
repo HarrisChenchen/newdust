{
 "cells": [
  {
   "cell_type": "code",
   "execution_count": null,
   "metadata": {},
   "outputs": [],
   "source": [
    "import numpy as np\n",
    "import matplotlib.pyplot as plt\n",
    "\n",
    "%matplotlib inline"
   ]
  },
  {
   "cell_type": "code",
   "execution_count": null,
   "metadata": {
    "collapsed": true
   },
   "outputs": [],
   "source": [
    "from newdust import *\n",
    "from newdust import graindist"
   ]
  },
  {
   "cell_type": "code",
   "execution_count": null,
   "metadata": {
    "collapsed": true
   },
   "outputs": [],
   "source": [
    "EVALS = np.logspace(-1,1,30) # keV\n",
    "LAMVALS = np.linspace(1000.,8000., 100) # angs"
   ]
  },
  {
   "cell_type": "markdown",
   "metadata": {},
   "source": [
    "### How to construct a SingleGrainPop object"
   ]
  },
  {
   "cell_type": "code",
   "execution_count": null,
   "metadata": {},
   "outputs": [],
   "source": [
    "sgpop = SingleGrainPop('Powerlaw', 'Silicate', 'Mie')\n",
    "sgpop.calculate_ext(LAMVALS, unit='angs')"
   ]
  },
  {
   "cell_type": "code",
   "execution_count": null,
   "metadata": {},
   "outputs": [],
   "source": [
    "ax = plt.subplot(111)\n",
    "sgpop.plot_ext(ax, 'all', loc='upper right', frameon=False)\n",
    "plt.semilogy()"
   ]
  },
  {
   "cell_type": "code",
   "execution_count": null,
   "metadata": {},
   "outputs": [],
   "source": [
    "ax = plt.subplot(111)\n",
    "sgpop.plot_ext(ax, 'ext', color='g', lw=3)\n",
    "sgpop.plot_ext(ax, 'sca', color='b', lw=2)\n",
    "sgpop.plot_ext(ax, 'abs', color='r', lw=1)\n",
    "plt.semilogy()"
   ]
  },
  {
   "cell_type": "markdown",
   "metadata": {},
   "source": [
    "## SingleGrainPop objects can be combined into a larger GrainPop"
   ]
  },
  {
   "cell_type": "code",
   "execution_count": null,
   "metadata": {},
   "outputs": [],
   "source": [
    "silpop = SingleGrainPop('Powerlaw', 'Silicate', 'Mie')\n",
    "grapop = SingleGrainPop('Powerlaw', 'Graphite', 'Mie')\n",
    "\n",
    "myPop  = GrainPop([silpop, grapop], keys=['sil','gra'])"
   ]
  },
  {
   "cell_type": "code",
   "execution_count": null,
   "metadata": {},
   "outputs": [],
   "source": [
    "myPop.calculate_ext(LAMVALS, unit='angs')"
   ]
  },
  {
   "cell_type": "code",
   "execution_count": null,
   "metadata": {},
   "outputs": [],
   "source": [
    "ax = plt.subplot(111)\n",
    "myPop['sil'].plot_ext(ax, 'ext', color='g', label='Silicate Extinction')\n",
    "myPop['gra'].plot_ext(ax, 'ext', color='b', label='Graphite Extinction')\n",
    "myPop.plot_ext(ax, 'ext', color='k', lw=2, label='Total')\n",
    "ax.legend(loc='upper right', frameon=False)\n",
    "plt.semilogy()"
   ]
  },
  {
   "cell_type": "code",
   "execution_count": null,
   "metadata": {},
   "outputs": [],
   "source": [
    "myPop.info()"
   ]
  },
  {
   "cell_type": "markdown",
   "metadata": {},
   "source": [
    "## Shortcut (helper) functions"
   ]
  },
  {
   "cell_type": "code",
   "execution_count": null,
   "metadata": {
    "collapsed": true
   },
   "outputs": [],
   "source": [
    "NH = 1.e22 # cm^-2\n",
    "MD = NH * 0.009 * constants.m_p"
   ]
  },
  {
   "cell_type": "markdown",
   "metadata": {},
   "source": [
    "### make_MRN"
   ]
  },
  {
   "cell_type": "code",
   "execution_count": null,
   "metadata": {},
   "outputs": [],
   "source": [
    "mrn = make_MRN(md=MD)\n",
    "mrn.calculate_ext(LAMVALS, unit='angs')"
   ]
  },
  {
   "cell_type": "code",
   "execution_count": null,
   "metadata": {},
   "outputs": [],
   "source": [
    "ax = plt.subplot(111)\n",
    "mrn.plot_ext(ax, 'all', frameon=False)"
   ]
  },
  {
   "cell_type": "code",
   "execution_count": null,
   "metadata": {},
   "outputs": [],
   "source": [
    "ax = plt.subplot(111)\n",
    "mrn.plot_ext(ax, 'ext', color='k', lw=2, label='total')\n",
    "for k in mrn.keys:\n",
    "    mrn[k].plot_ext(ax, 'ext', ls='--', label=k)\n",
    "ax.legend(loc='upper right', frameon=False)"
   ]
  },
  {
   "cell_type": "code",
   "execution_count": null,
   "metadata": {},
   "outputs": [],
   "source": [
    "mrn.info()"
   ]
  },
  {
   "cell_type": "markdown",
   "metadata": {},
   "source": [
    "### make_MRN_drude"
   ]
  },
  {
   "cell_type": "code",
   "execution_count": null,
   "metadata": {},
   "outputs": [],
   "source": [
    "mrn_rgd = make_MRN_drude(md=MD)\n",
    "mrn_rgd.calculate_ext(EVALS, unit='kev')"
   ]
  },
  {
   "cell_type": "code",
   "execution_count": null,
   "metadata": {},
   "outputs": [],
   "source": [
    "ax = plt.subplot(111)\n",
    "mrn_rgd.plot_ext(ax, 'all')\n",
    "plt.loglog()"
   ]
  },
  {
   "cell_type": "code",
   "execution_count": null,
   "metadata": {},
   "outputs": [],
   "source": [
    "mrn_rgd.info()"
   ]
  },
  {
   "cell_type": "code",
   "execution_count": null,
   "metadata": {
    "collapsed": true
   },
   "outputs": [],
   "source": []
  }
 ],
 "metadata": {
  "kernelspec": {
   "display_name": "Python 3",
   "language": "python",
   "name": "python3"
  },
  "language_info": {
   "codemirror_mode": {
    "name": "ipython",
    "version": 3
   },
   "file_extension": ".py",
   "mimetype": "text/x-python",
   "name": "python",
   "nbconvert_exporter": "python",
   "pygments_lexer": "ipython3",
   "version": "3.6.2"
  }
 },
 "nbformat": 4,
 "nbformat_minor": 1
}
