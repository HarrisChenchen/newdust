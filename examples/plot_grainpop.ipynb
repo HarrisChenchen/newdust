{
 "cells": [
  {
   "cell_type": "code",
   "execution_count": null,
   "metadata": {},
   "outputs": [],
   "source": [
    "import numpy as np\n",
    "import matplotlib.pyplot as plt\n",
    "\n",
    "import astropy.units as u\n",
    "import astropy.constants as c\n",
    "\n",
    "%matplotlib inline"
   ]
  },
  {
   "cell_type": "markdown",
   "metadata": {},
   "source": [
    "# GrainPop demo\n",
    "\n",
    "A `newdust` Grain Population ties together the size distribution, composition, and scattering model physics. There are two types of Grain Populations classes provided:\n",
    "\n",
    "* `newdust.SingleGrainPop` describes a single grain composition type\n",
    "* `newdust.GrainPop` is a collection of `SingleGrainPop` objects, and acts much like a dictionary"
   ]
  },
  {
   "cell_type": "code",
   "execution_count": null,
   "metadata": {},
   "outputs": [],
   "source": [
    "import newdust"
   ]
  },
  {
   "cell_type": "code",
   "execution_count": null,
   "metadata": {},
   "outputs": [],
   "source": [
    "# Set up the energy and wavelength grids\n",
    "EVALS = np.logspace(-1,1,30) * u.keV \n",
    "LAMVALS = np.linspace(1000.,8000., 100) * u.angstrom\n",
    "\n",
    "NH  = 1.e22 # cm^-2\n",
    "d2g = 0.009 # Dust to gas mass ratio\n",
    "MD  = NH * c.m_p.to('g').value * d2g # Dust mass column in g cm^-2\n",
    "\n",
    "print(\"Dust mass column: {:.1e} g cm^-2\".format(MD))"
   ]
  },
  {
   "cell_type": "markdown",
   "metadata": {},
   "source": [
    "## Shortcuts for constructing a SingleGrainPop object\n",
    "\n",
    "You can provide the type of size distribution, composition, and scattering model you want by providing a string.\n",
    "\n",
    "**Size distributions:**\n",
    "* 'Grain' - a single grain size\n",
    "* 'Powerlaw'\n",
    "* 'ExpCutoff'\n",
    "* Any additional keywords provided to `SingleGrainPop` will be passed to the grain size distribution class\n",
    "\n",
    "**Compositions:**\n",
    "* 'Drude' - applies the Drude approximation for the complex index of refraction\n",
    "* 'Silicate' - uses silicate properties from Draine (2003)\n",
    "* 'Graphite' - uses perpendicular graphite properties from Draine (2003)\n",
    "\n",
    "**Scattering Models:**\n",
    "* 'RG' - uses the Rayleigh Gans approximation (relevant for X-rays)\n",
    "* 'Mie' - uses the Mie scattering algorithm of Bohren & Hoffman"
   ]
  },
  {
   "cell_type": "code",
   "execution_count": null,
   "metadata": {},
   "outputs": [],
   "source": [
    "# Initialize the grain population\n",
    "sgpop = newdust.SingleGrainPop('Powerlaw', 'Silicate', 'Mie', md=MD)\n",
    "\n",
    "# Run the extinction calculation on the grid of wavelengths\n",
    "sgpop.calculate_ext(LAMVALS)"
   ]
  },
  {
   "cell_type": "markdown",
   "metadata": {},
   "source": [
    "The built in plotting method, `plot_sdist`, will plot the size distribution using grain size distribution object associated with this SingleGrainPop"
   ]
  },
  {
   "cell_type": "code",
   "execution_count": null,
   "metadata": {},
   "outputs": [],
   "source": [
    "ax = plt.subplot(111)\n",
    "sgpop.plot_sdist(ax)"
   ]
  },
  {
   "cell_type": "markdown",
   "metadata": {},
   "source": [
    "The built in plotting method, `plot_ext`, can show all three components of extinction from this population of dust grains: absorption, scattering, and extinction (which is absorption + scattring)\n",
    "\n",
    "These extinction properties are integrated over the grain size distribution.\n",
    "\n",
    "This function requres two inputs, a matplotlib axis and a string explaining which properties to plot:\n",
    "* 'all' will plot scattering, absorption, and extinction\n",
    "* 'sca' will plot scattering only\n",
    "* 'abs' will plot absorption only\n",
    "* 'ext' will plot extinction only\n",
    "\n",
    "You can change the units on the x-axis with the `unit` keyword. All other keywords are passed to `matplotlib.pyplot.legend` in the case that 'all' extinction propertis are plotted, otherwise keyword arguments are passed to `matplotlib.pyplot.plot`."
   ]
  },
  {
   "cell_type": "code",
   "execution_count": null,
   "metadata": {},
   "outputs": [],
   "source": [
    "ax = plt.subplot(111)\n",
    "sgpop.plot_ext(ax, 'all', unit='eV', frameon=False)\n",
    "plt.semilogy()"
   ]
  },
  {
   "cell_type": "markdown",
   "metadata": {},
   "source": [
    "Here is an example of using the additional keyword arguments to customize the look of the plot."
   ]
  },
  {
   "cell_type": "code",
   "execution_count": null,
   "metadata": {},
   "outputs": [],
   "source": [
    "ax = plt.subplot(111)\n",
    "sgpop.plot_ext(ax, 'ext', color='g', lw=3, label='Extinction')\n",
    "sgpop.plot_ext(ax, 'sca', color='b', lw=2, label='Scattering')\n",
    "sgpop.plot_ext(ax, 'abs', color='r', lw=1, label='Absorption')\n",
    "plt.ylabel(r'$\\tau$', size=16)\n",
    "plt.semilogy()\n",
    "plt.legend(loc='upper right', frameon=False)"
   ]
  },
  {
   "cell_type": "markdown",
   "metadata": {},
   "source": [
    "## Customizing a SingleGrainPop\n",
    "\n",
    "When using the shortcut strings, the composition and scattering models will be initialized with their default parameters. If you need to alter one of the settings, e.g., setting a different composition value for `rho`, then you will need to create the composition object and provide it as input.\n",
    "\n",
    "Essentially, when initiating a `SingleGrainPop` object, you can provide either a string shortcut or the relevant size distribution, composition, or scattering model.\n",
    "\n",
    "In the example below, I create a separate `SingleGrainPop` for the perpendicalar and parallel orientations of graphitic grains (see Draine 2003 for details)."
   ]
  },
  {
   "cell_type": "code",
   "execution_count": null,
   "metadata": {},
   "outputs": [],
   "source": [
    "# Here, I import the CmGraphite class into the notebook's top namespace, for ease of reference\n",
    "from newdust.graindist.composition import CmGraphite"
   ]
  },
  {
   "cell_type": "code",
   "execution_count": null,
   "metadata": {},
   "outputs": [],
   "source": [
    "# Initialize the SingleGrainPop objects\n",
    "gra_perp = newdust.SingleGrainPop('Powerlaw', CmGraphite(orient='perp'), 'Mie')\n",
    "gra_para = newdust.SingleGrainPop('Powerlaw', CmGraphite(orient='para'), 'Mie')\n",
    "\n",
    "# Calculate the extinction over optical wavelengths\n",
    "gra_perp.calculate_ext(LAMVALS)\n",
    "gra_para.calculate_ext(LAMVALS)"
   ]
  },
  {
   "cell_type": "code",
   "execution_count": null,
   "metadata": {},
   "outputs": [],
   "source": [
    "# Plot the results\n",
    "ax = plt.subplot(111)\n",
    "gra_perp.plot_ext(ax, 'ext', unit='nm', color='k', ls='-', label='Perpendicular')\n",
    "gra_para.plot_ext(ax, 'ext', unit='nm', color='k', ls='--', label='Parallel')\n",
    "plt.legend()"
   ]
  },
  {
   "cell_type": "markdown",
   "metadata": {},
   "source": [
    "# SingleGrainPop objects can be combined into GrainPop\n",
    "\n",
    "A `GrainPop` object allows us to combine multiple grain size or composition types and run extinction calculations on all of them in one line of code.\n",
    "\n",
    "A `GrainPop` acts similar to a dictionary when you want to investigate properties of the `SingleGrainPop` collected in this object."
   ]
  },
  {
   "cell_type": "code",
   "execution_count": null,
   "metadata": {},
   "outputs": [],
   "source": [
    "# Here, I define two grain populations with the same \n",
    "# power law size distribution but different compositions\n",
    "silpop = newdust.SingleGrainPop('Powerlaw', 'Silicate', 'Mie')\n",
    "grapop = newdust.SingleGrainPop('Powerlaw', 'Graphite', 'Mie')\n",
    "\n",
    "# Then I put them together into a GrainPop object\n",
    "# I provide strings as keys to reference each one\n",
    "# These act like Python dictionary keys\n",
    "myPop  = newdust.GrainPop([silpop, grapop], keys=['sil','gra'])"
   ]
  },
  {
   "cell_type": "code",
   "execution_count": null,
   "metadata": {},
   "outputs": [],
   "source": [
    "# Now I can do the calculation in one go\n",
    "myPop.calculate_ext(LAMVALS)"
   ]
  },
  {
   "cell_type": "code",
   "execution_count": null,
   "metadata": {},
   "outputs": [],
   "source": [
    "# Here, I plot the extinction properties of each SingleGrainPop\n",
    "# Note that I reference the SingleGrainPop using the keys I assigned earlier\n",
    "ax = plt.subplot(111)\n",
    "\n",
    "# Plot the extinction properties of the silicate grain population\n",
    "myPop['sil'].plot_ext(ax, 'ext', color='g', label='Silicate Extinction')\n",
    "\n",
    "# Plot the extinction properties of the graphitic grain population\n",
    "myPop['gra'].plot_ext(ax, 'ext', color='b', label='Graphite Extinction')\n",
    "\n",
    "# And I can plot the total GrainPop extinction properties in the same way as a SingleGrainPop\n",
    "# This shows the sum of the silicate and graphitic grain extinction values\n",
    "myPop.plot_ext(ax, 'ext', color='k', lw=2, label='Total')\n",
    "\n",
    "ax.legend(loc='upper right', frameon=False)\n",
    "plt.semilogy()"
   ]
  },
  {
   "cell_type": "markdown",
   "metadata": {},
   "source": [
    "The `GrainPop.info()` method prints several key characteristics of the `SingleGrainPop` objects contained within it. "
   ]
  },
  {
   "cell_type": "code",
   "execution_count": null,
   "metadata": {},
   "outputs": [],
   "source": [
    "myPop.info()"
   ]
  },
  {
   "cell_type": "markdown",
   "metadata": {},
   "source": [
    "## Shortcut (helper) functions for common dust models\n",
    "\n",
    "The `newdust.grainpop` module contains helper functions that provide a shortcut for initiating some common grain size distributions and physics."
   ]
  },
  {
   "cell_type": "markdown",
   "metadata": {},
   "source": [
    "### make_MRN\n",
    "\n",
    "A combination of silicate and graphite grains, following a power law size distribution, with a maximum grain size of 0.3 micron (Mathis, Rumpl, and Nordsieck 1977). This follows the Draine recommendation that the graphitic grains populations is 1/3 (2/3) parallel (perpendicular) and by default follows the Corrales et al. (2016) recommendation that 60% of the grains, by mass, are silicate. You can change the dust mass fraction in silicate grains using the `fsil` keyword."
   ]
  },
  {
   "cell_type": "code",
   "execution_count": null,
   "metadata": {},
   "outputs": [],
   "source": [
    "mrn = newdust.make_MRN(md=MD)\n",
    "mrn.calculate_ext(LAMVALS)"
   ]
  },
  {
   "cell_type": "code",
   "execution_count": null,
   "metadata": {},
   "outputs": [],
   "source": [
    "# Plot the total extinction\n",
    "ax = plt.subplot(111)\n",
    "mrn.plot_ext(ax, 'all', frameon=False)"
   ]
  },
  {
   "cell_type": "code",
   "execution_count": null,
   "metadata": {},
   "outputs": [],
   "source": [
    "# Show the extinction from each component. N\n",
    "# Note that they are indexed in the same way as a dictionary.\n",
    "# You can access the GrainPop keys using the .keys attribut\n",
    "\n",
    "ax = plt.subplot(111)\n",
    "mrn.plot_ext(ax, 'ext', color='k', lw=2, label='total')\n",
    "\n",
    "print(\"GrainPop keys:\", mrn.keys)\n",
    "\n",
    "for k in mrn.keys:\n",
    "    mrn[k].plot_ext(ax, 'ext', ls='--', label=k)\n",
    "\n",
    "ax.legend(loc='upper right', frameon=False)"
   ]
  },
  {
   "cell_type": "code",
   "execution_count": null,
   "metadata": {},
   "outputs": [],
   "source": [
    "mrn.info()"
   ]
  },
  {
   "cell_type": "markdown",
   "metadata": {},
   "source": [
    "### make_MRN_RGDrude\n",
    "\n",
    "The Drude approximation describes the complex index of refraction as if the solid is a mass of free electrons, so it is relatively insensitive to compound type. As a consequence, this function returns a `SingleGrainPop` object with the `CmDrude` composition.\n",
    "\n",
    "The Rayleigh-Gans scattering approximation is most relevant for X-ray wavelengths."
   ]
  },
  {
   "cell_type": "code",
   "execution_count": null,
   "metadata": {},
   "outputs": [],
   "source": [
    "mrn_rgd = newdust.make_MRN_RGDrude(md=MD)\n",
    "mrn_rgd.calculate_ext(EVALS)"
   ]
  },
  {
   "cell_type": "code",
   "execution_count": null,
   "metadata": {},
   "outputs": [],
   "source": [
    "ax = plt.subplot(111)\n",
    "mrn_rgd.plot_ext(ax, 'all')\n",
    "plt.loglog()"
   ]
  },
  {
   "cell_type": "markdown",
   "metadata": {},
   "source": [
    "The plot above demonstrates that the Rayleigh-Gans plus Drude approximation produces an extinction model that decays smoothly with $E^{-2}$. There is no absorption component to the RG-Drude model."
   ]
  },
  {
   "cell_type": "code",
   "execution_count": null,
   "metadata": {},
   "outputs": [],
   "source": [
    "mrn_rgd.info()"
   ]
  },
  {
   "cell_type": "code",
   "execution_count": null,
   "metadata": {},
   "outputs": [],
   "source": []
  }
 ],
 "metadata": {
  "kernelspec": {
   "display_name": "newdust-dev",
   "language": "python",
   "name": "newdust-dev"
  },
  "language_info": {
   "codemirror_mode": {
    "name": "ipython",
    "version": 3
   },
   "file_extension": ".py",
   "mimetype": "text/x-python",
   "name": "python",
   "nbconvert_exporter": "python",
   "pygments_lexer": "ipython3",
   "version": "3.10.1"
  }
 },
 "nbformat": 4,
 "nbformat_minor": 1
}
