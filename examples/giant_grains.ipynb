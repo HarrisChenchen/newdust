{
 "cells": [
  {
   "cell_type": "code",
   "execution_count": null,
   "metadata": {},
   "outputs": [],
   "source": [
    "import numpy as np\n",
    "import matplotlib.pyplot as plt\n",
    "\n",
    "%matplotlib inline"
   ]
  },
  {
   "cell_type": "code",
   "execution_count": null,
   "metadata": {},
   "outputs": [],
   "source": [
    "from newdust.graindist import *\n",
    "from newdust import *"
   ]
  },
  {
   "cell_type": "code",
   "execution_count": null,
   "metadata": {},
   "outputs": [],
   "source": [
    "A0  = 10.0\n",
    "MD  = 1.e22 * constants.m_p * 0.009  # g cm^-2\n",
    "\n",
    "SIL      = composition.CmSilicate()\n",
    "GRA_para = composition.CmGraphite(orient='para')\n",
    "GRA_perp = composition.CmGraphite(orient='perp')"
   ]
  },
  {
   "cell_type": "code",
   "execution_count": null,
   "metadata": {
    "collapsed": true
   },
   "outputs": [],
   "source": [
    "EVALS = np.logspace(-1,np.log10(20.),100)\n",
    "THVALS = np.logspace(0.0,2.0,5)"
   ]
  },
  {
   "cell_type": "code",
   "execution_count": null,
   "metadata": {},
   "outputs": [],
   "source": [
    "plt.plot(EVALS, SIL.ip(EVALS, unit='kev'), 'g', label='Silicate')\n",
    "plt.plot(EVALS, GRA_para.ip(EVALS, unit='kev'), 'b--', label='Graphite (parallel)')\n",
    "plt.plot(EVALS, GRA_perp.ip(EVALS, unit='kev'), 'b:', label='Graphite (perpendicular)')\n",
    "plt.loglog()\n",
    "plt.xlabel(\"Energy (keV)\", size=14)\n",
    "plt.ylabel(\"Imaginary part\", size=14)"
   ]
  },
  {
   "cell_type": "code",
   "execution_count": null,
   "metadata": {},
   "outputs": [],
   "source": [
    "plt.plot(EVALS, 1.0 - SIL.rp(EVALS, unit='kev'), 'g', label='Silicate')\n",
    "plt.plot(EVALS, 1.0 - GRA_para.rp(EVALS, unit='kev'), 'b--', label='Graphite (parallel)')\n",
    "plt.plot(EVALS, 1.0 - GRA_perp.rp(EVALS, unit='kev'), 'b:', label='Graphite (perpendicular)')\n",
    "plt.loglog()\n",
    "plt.xlabel(\"Energy (keV)\", size=14)\n",
    "plt.ylabel(\"1 - Real part\", size=14)"
   ]
  },
  {
   "cell_type": "markdown",
   "metadata": {},
   "source": [
    "No real difference between grain sizes for the parallel vs perpendicular graphite."
   ]
  },
  {
   "cell_type": "code",
   "execution_count": null,
   "metadata": {
    "collapsed": true
   },
   "outputs": [],
   "source": [
    "ABIG  = 1.0\n",
    "big_sil = SingleGrainPop('Grain', 'Silicate', 'Mie', amax=ABIG, md=MD)\n",
    "big_gra = SingleGrainPop('Grain', 'Graphite', 'Mie', amax=ABIG, md=MD)"
   ]
  },
  {
   "cell_type": "code",
   "execution_count": null,
   "metadata": {},
   "outputs": [],
   "source": [
    "%%time\n",
    "big_sil.calculate_ext(EVALS, unit='kev', theta=THVALS)"
   ]
  },
  {
   "cell_type": "code",
   "execution_count": null,
   "metadata": {},
   "outputs": [],
   "source": [
    "%%time\n",
    "big_gra.calculate_ext(EVALS, unit='kev', theta=THVALS)"
   ]
  },
  {
   "cell_type": "code",
   "execution_count": null,
   "metadata": {},
   "outputs": [],
   "source": [
    "ax = plt.subplot(111)\n",
    "big_sil.plot_ext(ax, 'all')\n",
    "plt.loglog()\n",
    "ax.set_ylim(0.01, 2)\n",
    "plt.title('Silicate')"
   ]
  },
  {
   "cell_type": "code",
   "execution_count": null,
   "metadata": {},
   "outputs": [],
   "source": [
    "ax = plt.subplot(111)\n",
    "big_gra.plot_ext(ax, 'all')\n",
    "plt.loglog()\n",
    "ax.set_ylim(0.01, 2)\n",
    "plt.title('Graphite')"
   ]
  },
  {
   "cell_type": "code",
   "execution_count": null,
   "metadata": {},
   "outputs": [],
   "source": [
    "inds = [0, 50, -10]\n",
    "ms   = dict(zip(inds,['d','o','s']))\n",
    "for i in inds:\n",
    "    plt.plot(THVALS, big_sil.int_diff[i], 'g', ls='',\n",
    "             marker=ms[i], markersize=10, label='%.2f keV' % EVALS[i])\n",
    "    plt.plot(THVALS, big_gra.int_diff[i], 'b', ls='', marker=ms[i], markersize=10)\n",
    "plt.loglog()\n",
    "plt.legend(loc='lower left', frameon=False)"
   ]
  },
  {
   "cell_type": "code",
   "execution_count": null,
   "metadata": {},
   "outputs": [],
   "source": [
    "giant_sil = SingleGrainPop('Grain', 'Silicate', 'Mie', amax=A0, md=MD)\n",
    "giant_gra = SingleGrainPop('Grain', 'Graphite', 'Mie', amax=A0, md=MD)"
   ]
  },
  {
   "cell_type": "code",
   "execution_count": null,
   "metadata": {},
   "outputs": [],
   "source": [
    "%%time\n",
    "giant_sil.calculate_ext(EVALS, unit='kev', theta=THVALS)"
   ]
  },
  {
   "cell_type": "code",
   "execution_count": null,
   "metadata": {},
   "outputs": [],
   "source": [
    "%%time\n",
    "giant_gra.calculate_ext(EVALS, unit='kev', theta=THVALS)"
   ]
  },
  {
   "cell_type": "code",
   "execution_count": null,
   "metadata": {},
   "outputs": [],
   "source": [
    "ax = plt.subplot(111)\n",
    "giant_sil.plot_ext(ax, 'all')\n",
    "plt.loglog()\n",
    "ax.set_ylim(0.01, 2)\n",
    "plt.title('Silicate')"
   ]
  },
  {
   "cell_type": "code",
   "execution_count": null,
   "metadata": {},
   "outputs": [],
   "source": [
    "ax = plt.subplot(111)\n",
    "giant_gra.plot_ext(ax, 'all')\n",
    "plt.loglog()\n",
    "ax.set_ylim(0.01, 2)\n",
    "plt.title('Graphite')"
   ]
  },
  {
   "cell_type": "code",
   "execution_count": null,
   "metadata": {},
   "outputs": [],
   "source": [
    "inds = [0, 50, -10]\n",
    "ms   = dict(zip(inds,['d','o','s']))\n",
    "for i in inds:\n",
    "    plt.plot(THVALS, giant_sil.int_diff[i], 'g', ls='',\n",
    "             marker=ms[i], markersize=10, label='%.2f keV' % EVALS[i])\n",
    "    plt.plot(THVALS, giant_gra.int_diff[i], 'b', ls='', marker=ms[i], markersize=10)\n",
    "plt.loglog()\n",
    "plt.legend(loc='lower left', frameon=False)"
   ]
  },
  {
   "cell_type": "markdown",
   "metadata": {},
   "source": [
    "Make a giant comparison plot"
   ]
  },
  {
   "cell_type": "code",
   "execution_count": null,
   "metadata": {},
   "outputs": [],
   "source": [
    "ax = plt.subplot(111)\n",
    "big_gra.plot_ext(ax, 'abs', color='b', lw=1, label='1 um gra')\n",
    "big_sil.plot_ext(ax, 'abs', color='g', lw=1, label='1 um sil')\n",
    "giant_gra.plot_ext(ax, 'abs', color='b', lw=2, label='10 um gra')\n",
    "giant_sil.plot_ext(ax, 'abs', color='g', lw=2, label='10 um sil')\n",
    "plt.loglog()\n",
    "plt.xlim(0.1, 20)\n",
    "plt.ylim(0.001, 2)\n",
    "plt.title(\"Absorption\")\n",
    "plt.legend(loc='lower left', frameon=False)"
   ]
  },
  {
   "cell_type": "markdown",
   "metadata": {},
   "source": [
    "Starts to flatten out around $E_{kev} < \\sqrt{a_{um}}$"
   ]
  }
 ],
 "metadata": {
  "kernelspec": {
   "display_name": "Python 3",
   "language": "python",
   "name": "python3"
  },
  "language_info": {
   "codemirror_mode": {
    "name": "ipython",
    "version": 3
   },
   "file_extension": ".py",
   "mimetype": "text/x-python",
   "name": "python",
   "nbconvert_exporter": "python",
   "pygments_lexer": "ipython3",
   "version": "3.6.2"
  }
 },
 "nbformat": 4,
 "nbformat_minor": 1
}
